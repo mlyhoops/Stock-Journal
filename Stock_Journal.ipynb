{
  "nbformat": 4,
  "nbformat_minor": 0,
  "metadata": {
    "colab": {
      "provenance": [],
      "authorship_tag": "ABX9TyM/Y722TrMXP1WcyiyfuOV2",
      "include_colab_link": true
    },
    "kernelspec": {
      "name": "python3",
      "display_name": "Python 3"
    },
    "language_info": {
      "name": "python"
    }
  },
  "cells": [
    {
      "cell_type": "markdown",
      "metadata": {
        "id": "view-in-github",
        "colab_type": "text"
      },
      "source": [
        "<a href=\"https://colab.research.google.com/github/mlyhoops/Stock-Journal/blob/main/Stock_Journal.ipynb\" target=\"_parent\"><img src=\"https://colab.research.google.com/assets/colab-badge.svg\" alt=\"Open In Colab\"/></a>"
      ]
    },
    {
      "cell_type": "markdown",
      "source": [
        "#Stock Journal\n",
        "Insights on my trades in Webull."
      ],
      "metadata": {
        "id": "Vux9YVGyKIzu"
      }
    },
    {
      "cell_type": "markdown",
      "source": [
        "#Problem\n",
        "The problem I'm having is my risk management is poor and I am not trading the setups that work best for me. In this analysis I want to figure out what my best setup to trade is. (Is there a certain day I trade better? A certain time of day? etc.)\n",
        "\n",
        "#Solution/Things to Focus on/Visualize\n",
        "Some of the data that I want to look at is:\n",
        "- Do I trade better with longer term setups? (exp date month out? week out?)\n",
        "- Am I a better scalp trader? (in and out of trades within 10 minutes to an hour?)\n",
        "- Do I trade better with further out of the money (OTM) options or closer to in the money (ITM)?\n",
        "- Position sizing: Do I trade better with small size? or trading with bigger size?\n",
        "- Am I a better Short trader or Long trader?\n",
        "- What Ticker do I trade best?\n",
        "- What is my P&L?\n",
        "- What is my avg winning trade?\n",
        "- What is my avg losing trade?\n",
        "- What days do I trade the best on?\n",
        "- What time of day do I make the best trades?\n",
        "- What is my winning percentage?\n",
        "- What is my losing percentage?\n",
        "- Total gain/loss?\n",
        "\n",
        "#Other\n",
        "Some other things that I could integrate into the journal.\n",
        "- Tag my trades to keep track of what type of trades I trade best\n",
        "- \n"
      ],
      "metadata": {
        "id": "sF8kYzMkKRoS"
      }
    },
    {
      "cell_type": "markdown",
      "source": [
        "#Import the csv file into a dataframe"
      ],
      "metadata": {
        "id": "aFSNAlVVcCB6"
      }
    },
    {
      "cell_type": "code",
      "execution_count": null,
      "metadata": {
        "id": "y5m0VVEDKERu"
      },
      "outputs": [],
      "source": [
        "import numpy as np\n",
        "import pandas as pd\n",
        "import matplotlib.pyplot as plt\n",
        "\n",
        "%matplotlib inline\n",
        "\n",
        "optionTrades = pd.read_csv(\n",
        "    '/content/Webull_Orders_Records_Options.csv',\n",
        "    parse_dates=['Name'])"
      ]
    },
    {
      "cell_type": "markdown",
      "source": [],
      "metadata": {
        "id": "LsA85jvUcLdx"
      }
    },
    {
      "cell_type": "code",
      "source": [],
      "metadata": {
        "id": "qKMcIAnAc8lJ"
      },
      "execution_count": null,
      "outputs": []
    }
  ]
}